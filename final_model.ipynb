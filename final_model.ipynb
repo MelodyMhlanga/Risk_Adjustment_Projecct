{
 "cells": [
  {
   "cell_type": "code",
   "execution_count": 1,
   "metadata": {},
   "outputs": [],
   "source": [
    "from scipy import stats\n",
    "from fitter import Fitter\n",
    "import pandas as pd\n",
    "import numpy as np\n",
    "import seaborn as sns\n",
    "import matplotlib.pyplot as plt\n",
    "from scipy import optimize"
   ]
  },
  {
   "cell_type": "code",
   "execution_count": null,
   "metadata": {},
   "outputs": [],
   "source": [
    "data = pd.read_csv(\"test data_project.csv\")"
   ]
  },
  {
   "cell_type": "code",
   "execution_count": 3,
   "metadata": {},
   "outputs": [
    {
     "data": {
      "text/plain": [
       "Index(['GRCODE', 'Lob', 'AccidentYear', 'DevelopmentYear', 'DevelopmentLag',\n",
       "       'Incurred claims', 'PaidLoss', 'BulkLoss_R1', 'EarnedPremDIR_R1',\n",
       "       'EarnedPremCeded_R1', 'EarnedPremNet_R1', 'Single',\n",
       "       'PostedReserve97_R1'],\n",
       "      dtype='object')"
      ]
     },
     "execution_count": 3,
     "metadata": {},
     "output_type": "execute_result"
    }
   ],
   "source": [
    "data.keys()"
   ]
  },
  {
   "cell_type": "code",
   "execution_count": 58,
   "metadata": {},
   "outputs": [
    {
     "data": {
      "text/html": [
       "<div>\n",
       "<style scoped>\n",
       "    .dataframe tbody tr th:only-of-type {\n",
       "        vertical-align: middle;\n",
       "    }\n",
       "\n",
       "    .dataframe tbody tr th {\n",
       "        vertical-align: top;\n",
       "    }\n",
       "\n",
       "    .dataframe thead th {\n",
       "        text-align: right;\n",
       "    }\n",
       "</style>\n",
       "<table border=\"1\" class=\"dataframe\">\n",
       "  <thead>\n",
       "    <tr style=\"text-align: right;\">\n",
       "      <th></th>\n",
       "      <th>GRCODE</th>\n",
       "      <th>Lob</th>\n",
       "      <th>AccidentYear</th>\n",
       "      <th>DevelopmentYear</th>\n",
       "      <th>DevelopmentLag</th>\n",
       "      <th>Incurred claims</th>\n",
       "      <th>PaidLoss</th>\n",
       "      <th>BulkLoss_R1</th>\n",
       "      <th>EarnedPremDIR_R1</th>\n",
       "      <th>EarnedPremCeded_R1</th>\n",
       "      <th>EarnedPremNet_R1</th>\n",
       "      <th>Single</th>\n",
       "      <th>PostedReserve97_R1</th>\n",
       "    </tr>\n",
       "  </thead>\n",
       "  <tbody>\n",
       "    <tr>\n",
       "      <th>0</th>\n",
       "      <td>78</td>\n",
       "      <td>Motor</td>\n",
       "      <td>1970-01-01 00:00:00.000001988</td>\n",
       "      <td>1988</td>\n",
       "      <td>1</td>\n",
       "      <td>29483</td>\n",
       "      <td>3894</td>\n",
       "      <td>18410</td>\n",
       "      <td>29513</td>\n",
       "      <td>0</td>\n",
       "      <td>29513</td>\n",
       "      <td>0</td>\n",
       "      <td>86660</td>\n",
       "    </tr>\n",
       "    <tr>\n",
       "      <th>1</th>\n",
       "      <td>78</td>\n",
       "      <td>Fire</td>\n",
       "      <td>1970-01-01 00:00:00.000001988</td>\n",
       "      <td>1989</td>\n",
       "      <td>2</td>\n",
       "      <td>28826</td>\n",
       "      <td>7409</td>\n",
       "      <td>13495</td>\n",
       "      <td>29513</td>\n",
       "      <td>0</td>\n",
       "      <td>29513</td>\n",
       "      <td>0</td>\n",
       "      <td>86660</td>\n",
       "    </tr>\n",
       "    <tr>\n",
       "      <th>2</th>\n",
       "      <td>78</td>\n",
       "      <td>Fire</td>\n",
       "      <td>1970-01-01 00:00:00.000001988</td>\n",
       "      <td>1990</td>\n",
       "      <td>3</td>\n",
       "      <td>27063</td>\n",
       "      <td>11199</td>\n",
       "      <td>7770</td>\n",
       "      <td>29513</td>\n",
       "      <td>0</td>\n",
       "      <td>29513</td>\n",
       "      <td>0</td>\n",
       "      <td>86660</td>\n",
       "    </tr>\n",
       "    <tr>\n",
       "      <th>3</th>\n",
       "      <td>78</td>\n",
       "      <td>Fire</td>\n",
       "      <td>1970-01-01 00:00:00.000001988</td>\n",
       "      <td>1991</td>\n",
       "      <td>4</td>\n",
       "      <td>26001</td>\n",
       "      <td>16913</td>\n",
       "      <td>4721</td>\n",
       "      <td>29513</td>\n",
       "      <td>0</td>\n",
       "      <td>29513</td>\n",
       "      <td>0</td>\n",
       "      <td>86660</td>\n",
       "    </tr>\n",
       "    <tr>\n",
       "      <th>4</th>\n",
       "      <td>78</td>\n",
       "      <td>Fire</td>\n",
       "      <td>1970-01-01 00:00:00.000001988</td>\n",
       "      <td>1992</td>\n",
       "      <td>5</td>\n",
       "      <td>24614</td>\n",
       "      <td>18517</td>\n",
       "      <td>2984</td>\n",
       "      <td>29513</td>\n",
       "      <td>0</td>\n",
       "      <td>29513</td>\n",
       "      <td>0</td>\n",
       "      <td>86660</td>\n",
       "    </tr>\n",
       "  </tbody>\n",
       "</table>\n",
       "</div>"
      ],
      "text/plain": [
       "   GRCODE    Lob                  AccidentYear  DevelopmentYear   \n",
       "0      78  Motor 1970-01-01 00:00:00.000001988             1988  \\\n",
       "1      78   Fire 1970-01-01 00:00:00.000001988             1989   \n",
       "2      78   Fire 1970-01-01 00:00:00.000001988             1990   \n",
       "3      78   Fire 1970-01-01 00:00:00.000001988             1991   \n",
       "4      78   Fire 1970-01-01 00:00:00.000001988             1992   \n",
       "\n",
       "   DevelopmentLag  Incurred claims  PaidLoss  BulkLoss_R1  EarnedPremDIR_R1   \n",
       "0               1            29483      3894        18410             29513  \\\n",
       "1               2            28826      7409        13495             29513   \n",
       "2               3            27063     11199         7770             29513   \n",
       "3               4            26001     16913         4721             29513   \n",
       "4               5            24614     18517         2984             29513   \n",
       "\n",
       "   EarnedPremCeded_R1  EarnedPremNet_R1  Single  PostedReserve97_R1  \n",
       "0                   0             29513       0               86660  \n",
       "1                   0             29513       0               86660  \n",
       "2                   0             29513       0               86660  \n",
       "3                   0             29513       0               86660  \n",
       "4                   0             29513       0               86660  "
      ]
     },
     "execution_count": 58,
     "metadata": {},
     "output_type": "execute_result"
    }
   ],
   "source": [
    "data.head()"
   ]
  },
  {
   "cell_type": "code",
   "execution_count": 4,
   "metadata": {},
   "outputs": [
    {
     "data": {
      "text/plain": [
       "0       29483\n",
       "1       28826\n",
       "2       27063\n",
       "3       26001\n",
       "4       24614\n",
       "        ...  \n",
       "6995        0\n",
       "6996        0\n",
       "6997        0\n",
       "6998        0\n",
       "6999        0\n",
       "Name: Incurred claims, Length: 7000, dtype: int64"
      ]
     },
     "execution_count": 4,
     "metadata": {},
     "output_type": "execute_result"
    }
   ],
   "source": [
    "claim_amounts = data['Incurred claims']\n",
    "claim_amounts"
   ]
  },
  {
   "cell_type": "code",
   "execution_count": 5,
   "metadata": {},
   "outputs": [
    {
     "data": {
      "text/plain": [
       "<bound method NDFrame._add_numeric_operations.<locals>.mean of 0       29483\n",
       "1       28826\n",
       "2       27063\n",
       "3       26001\n",
       "4       24614\n",
       "        ...  \n",
       "6995        0\n",
       "6996        0\n",
       "6997        0\n",
       "6998        0\n",
       "6999        0\n",
       "Name: Incurred claims, Length: 7000, dtype: int64>"
      ]
     },
     "execution_count": 5,
     "metadata": {},
     "output_type": "execute_result"
    }
   ],
   "source": [
    "claim_amounts.mean"
   ]
  },
  {
   "cell_type": "code",
   "execution_count": 6,
   "metadata": {},
   "outputs": [
    {
     "data": {
      "text/plain": [
       "<Axes: ylabel='Density'>"
      ]
     },
     "execution_count": 6,
     "metadata": {},
     "output_type": "execute_result"
    },
    {
     "data": {
      "image/png": "[encoded data removed]",
      "text/plain": [
       "<Figure size 640x480 with 1 Axes>"
      ]
     },
     "metadata": {},
     "output_type": "display_data"
    }
   ],
   "source": [
    "claim_amounts.plot.kde()"
   ]
  },
  {
   "cell_type": "code",
   "execution_count": 7,
   "metadata": {},
   "outputs": [
    {
     "name": "stderr",
     "output_type": "stream",
     "text": [
      "Fitting 110 distributions:   0%|          | 0/110 [00:00<?, ?it/s]SKIPPED _fit distribution (taking more than 30 seconds)\n",
      "Fitting 110 distributions:  29%|██▉       | 32/110 [01:29<09:08,  7.03s/it]SKIPPED genhyperbolic distribution (taking more than 30 seconds)\n",
      "Fitting 110 distributions:  32%|███▏      | 35/110 [02:29<16:55, 13.54s/it]SKIPPED geninvgauss distribution (taking more than 30 seconds)\n",
      "Fitting 110 distributions:  50%|█████     | 55/110 [03:24<01:30,  1.65s/it]SKIPPED kstwo distribution (taking more than 30 seconds)\n",
      "Fitting 110 distributions:  60%|██████    | 66/110 [03:46<01:43,  2.36s/it]SKIPPED loguniform distribution (taking more than 30 seconds)\n",
      "Fitting 110 distributions:  65%|██████▌   | 72/110 [03:57<01:23,  2.19s/it]SKIPPED levy_stable distribution (taking more than 30 seconds)\n",
      "Fitting 110 distributions:  69%|██████▉   | 76/110 [04:20<02:18,  4.07s/it]SKIPPED ncx2 distribution (taking more than 30 seconds)\n",
      "Fitting 110 distributions:  75%|███████▌  | 83/110 [05:52<04:33, 10.14s/it]c:\\Users\\melod\\AppData\\Local\\Programs\\Python\\Python310\\lib\\site-packages\\scipy\\stats\\_distn_infrastructure.py:2060: IntegrationWarning: The algorithm does not converge.  Roundoff error is detected\n",
      "  in the extrapolation table.  It is assumed that the requested tolerance\n",
      "  cannot be achieved, and that the returned result (if full_output = 1) is \n",
      "  the best which can be obtained.\n",
      "  return integrate.quad(self._pdf, _a, x, args=args)[0]\n",
      "c:\\Users\\melod\\AppData\\Local\\Programs\\Python\\Python310\\lib\\site-packages\\scipy\\stats\\_distn_infrastructure.py:2060: IntegrationWarning: The integral is probably divergent, or slowly convergent.\n",
      "  return integrate.quad(self._pdf, _a, x, args=args)[0]\n",
      "Fitting 110 distributions:  77%|███████▋  | 85/110 [06:17<04:40, 11.22s/it]SKIPPED reciprocal distribution (taking more than 30 seconds)\n",
      "Fitting 110 distributions:  79%|███████▉  | 87/110 [06:30<03:39,  9.53s/it]SKIPPED rv_continuous distribution (taking more than 30 seconds)\n",
      "Fitting 110 distributions:  80%|████████  | 88/110 [06:31<02:29,  6.80s/it]SKIPPED rv_histogram distribution (taking more than 30 seconds)\n",
      "Fitting 110 distributions:  85%|████████▍ | 93/110 [06:43<01:11,  4.18s/it]SKIPPED studentized_range distribution (taking more than 30 seconds)\n",
      "Fitting 110 distributions:  88%|████████▊ | 97/110 [07:17<01:17,  5.98s/it]c:\\Users\\melod\\AppData\\Local\\Programs\\Python\\Python310\\lib\\site-packages\\scipy\\integrate\\_quadpack_py.py:1225: IntegrationWarning: The maximum number of subdivisions (50) has been achieved.\n",
      "  If increasing the limit yields no improvement it is advised to analyze \n",
      "  the integrand in order to determine the difficulties.  If the position of a \n",
      "  local difficulty can be determined (singularity, discontinuity) one will \n",
      "  probably gain from splitting up the interval and calling the integrator \n",
      "  on the subranges.  Perhaps a special-purpose integrator should be used.\n",
      "  quad_r = quad(f, low, high, args=args, full_output=self.full_output,\n",
      "Fitting 110 distributions:  91%|█████████ | 100/110 [07:42<01:11,  7.14s/it]SKIPPED triang distribution (taking more than 30 seconds)\n",
      "Fitting 110 distributions:  94%|█████████▎| 103/110 [08:06<00:53,  7.71s/it]SKIPPED tukeylambda distribution (taking more than 30 seconds)\n",
      "Fitting 110 distributions:  95%|█████████▍| 104/110 [08:13<00:44,  7.34s/it]c:\\Users\\melod\\AppData\\Local\\Programs\\Python\\Python310\\lib\\site-packages\\scipy\\integrate\\_quadpack_py.py:1225: IntegrationWarning: The integral is probably divergent, or slowly convergent.\n",
      "  quad_r = quad(f, low, high, args=args, full_output=self.full_output,\n",
      "SKIPPED vonmises distribution (taking more than 30 seconds)\n",
      "Fitting 110 distributions:  95%|█████████▌| 105/110 [08:37<01:02, 12.53s/it]SKIPPED vonmises_line distribution (taking more than 30 seconds)\n",
      "Fitting 110 distributions: 100%|██████████| 110/110 [09:06<00:00,  4.96s/it]\n"
     ]
    }
   ],
   "source": [
    "f = Fitter(claim_amounts)\n",
    "f.fit()"
   ]
  },
  {
   "cell_type": "code",
   "execution_count": 8,
   "metadata": {},
   "outputs": [
    {
     "data": {
      "text/html": [
       "<div>\n",
       "<style scoped>\n",
       "    .dataframe tbody tr th:only-of-type {\n",
       "        vertical-align: middle;\n",
       "    }\n",
       "\n",
       "    .dataframe tbody tr th {\n",
       "        vertical-align: top;\n",
       "    }\n",
       "\n",
       "    .dataframe thead th {\n",
       "        text-align: right;\n",
       "    }\n",
       "</style>\n",
       "<table border=\"1\" class=\"dataframe\">\n",
       "  <thead>\n",
       "    <tr style=\"text-align: right;\">\n",
       "      <th></th>\n",
       "      <th>sumsquare_error</th>\n",
       "      <th>aic</th>\n",
       "      <th>bic</th>\n",
       "      <th>kl_div</th>\n",
       "      <th>ks_statistic</th>\n",
       "      <th>ks_pvalue</th>\n",
       "    </tr>\n",
       "  </thead>\n",
       "  <tbody>\n",
       "    <tr>\n",
       "      <th>lognorm</th>\n",
       "      <td>9.932013e-09</td>\n",
       "      <td>4375.351815</td>\n",
       "      <td>-190941.615395</td>\n",
       "      <td>inf</td>\n",
       "      <td>0.321808</td>\n",
       "      <td>0.0</td>\n",
       "    </tr>\n",
       "    <tr>\n",
       "      <th>johnsonsb</th>\n",
       "      <td>9.938776e-09</td>\n",
       "      <td>4453.066872</td>\n",
       "      <td>-190927.996819</td>\n",
       "      <td>inf</td>\n",
       "      <td>0.328074</td>\n",
       "      <td>0.0</td>\n",
       "    </tr>\n",
       "    <tr>\n",
       "      <th>powerlognorm</th>\n",
       "      <td>1.112257e-08</td>\n",
       "      <td>4345.071449</td>\n",
       "      <td>-190140.271628</td>\n",
       "      <td>inf</td>\n",
       "      <td>0.328766</td>\n",
       "      <td>0.0</td>\n",
       "    </tr>\n",
       "    <tr>\n",
       "      <th>gilbrat</th>\n",
       "      <td>1.235487e-08</td>\n",
       "      <td>4237.028543</td>\n",
       "      <td>-189422.459913</td>\n",
       "      <td>inf</td>\n",
       "      <td>0.327784</td>\n",
       "      <td>0.0</td>\n",
       "    </tr>\n",
       "    <tr>\n",
       "      <th>gibrat</th>\n",
       "      <td>1.235487e-08</td>\n",
       "      <td>4237.028543</td>\n",
       "      <td>-189422.459913</td>\n",
       "      <td>inf</td>\n",
       "      <td>0.327784</td>\n",
       "      <td>0.0</td>\n",
       "    </tr>\n",
       "  </tbody>\n",
       "</table>\n",
       "</div>"
      ],
      "text/plain": [
       "              sumsquare_error          aic            bic  kl_div   \n",
       "lognorm          9.932013e-09  4375.351815 -190941.615395     inf  \\\n",
       "johnsonsb        9.938776e-09  4453.066872 -190927.996819     inf   \n",
       "powerlognorm     1.112257e-08  4345.071449 -190140.271628     inf   \n",
       "gilbrat          1.235487e-08  4237.028543 -189422.459913     inf   \n",
       "gibrat           1.235487e-08  4237.028543 -189422.459913     inf   \n",
       "\n",
       "              ks_statistic  ks_pvalue  \n",
       "lognorm           0.321808        0.0  \n",
       "johnsonsb         0.328074        0.0  \n",
       "powerlognorm      0.328766        0.0  \n",
       "gilbrat           0.327784        0.0  \n",
       "gibrat            0.327784        0.0  "
      ]
     },
     "execution_count": 8,
     "metadata": {},
     "output_type": "execute_result"
    },
    {
     "data": {
      "image/png": "[encoded data removed]",
      "text/plain": [
       "<Figure size 640x480 with 1 Axes>"
      ]
     },
     "metadata": {},
     "output_type": "display_data"
    }
   ],
   "source": [
    "f.summary()"
   ]
  },
  {
   "cell_type": "code",
   "execution_count": 9,
   "metadata": {},
   "outputs": [
    {
     "data": {
      "text/plain": [
       "{'lognorm': {'s': 0.9637111431675187,\n",
       "  'loc': -504.8551685870864,\n",
       "  'scale': 776.5091949073188}}"
      ]
     },
     "execution_count": 9,
     "metadata": {},
     "output_type": "execute_result"
    }
   ],
   "source": [
    "f.get_best()"
   ]
  },
  {
   "cell_type": "code",
   "execution_count": 10,
   "metadata": {},
   "outputs": [
    {
     "data": {
      "text/plain": [
       "0.5633940304751578"
      ]
     },
     "execution_count": 10,
     "metadata": {},
     "output_type": "execute_result"
    }
   ],
   "source": [
    "stats.lognorm.rvs(0.9637111431675187, loc=0, scale=1, size=None, random_state=None)"
   ]
  },
  {
   "cell_type": "code",
   "execution_count": 11,
   "metadata": {},
   "outputs": [],
   "source": [
    "lognorm_dist = stats.lognorm(s=0.9637111431675187, loc=0, scale=30)\n",
    "lognorm = lognorm_dist.rvs(size=10000)"
   ]
  },
  {
   "cell_type": "code",
   "execution_count": 12,
   "metadata": {},
   "outputs": [
    {
     "name": "stdout",
     "output_type": "stream",
     "text": [
      "[ 44.54579583  58.63525729  25.55621533 ...  18.87027023 137.86600863\n",
      " 107.28716968]\n"
     ]
    }
   ],
   "source": [
    "print (lognorm)"
   ]
  },
  {
   "cell_type": "code",
   "execution_count": 13,
   "metadata": {},
   "outputs": [
    {
     "data": {
      "text/plain": [
       "<function ndarray.mean>"
      ]
     },
     "execution_count": 13,
     "metadata": {},
     "output_type": "execute_result"
    }
   ],
   "source": [
    "lognorm.mean"
   ]
  },
  {
   "cell_type": "code",
   "execution_count": 14,
   "metadata": {},
   "outputs": [
    {
     "data": {
      "image/png": "[encoded data removed]",
      "text/plain": [
       "<Figure size 640x480 with 1 Axes>"
      ]
     },
     "metadata": {},
     "output_type": "display_data"
    }
   ],
   "source": [
    "plt.hist(lognorm)\n",
    "plt.show()"
   ]
  },
  {
   "cell_type": "code",
   "execution_count": 15,
   "metadata": {},
   "outputs": [
    {
     "data": {
      "image/png": "[encoded data removed]",
      "text/plain": [
       "<Figure size 640x480 with 1 Axes>"
      ]
     },
     "metadata": {},
     "output_type": "display_data"
    }
   ],
   "source": [
    "fitted_claim_amounts = pd.Series(lognorm)\n",
    "fitted_claim_amounts.plot.kde()\n",
    "plt.show()"
   ]
  },
  {
   "cell_type": "code",
   "execution_count": 59,
   "metadata": {},
   "outputs": [
    {
     "data": {
      "image/png": "[encoded data removed]",
      "text/plain": [
       "<Figure size 500x700 with 1 Axes>"
      ]
     },
     "metadata": {},
     "output_type": "display_data"
    }
   ],
   "source": [
    "plt.figure(figsize=(5,7))\n",
    "claim_amounts.plot.kde(label = 'raw data')\n",
    "fitted_claim_amounts.plot.kde(label =  'fitted')\n",
    "plt.xlim(0, max(claim_amounts))\n",
    "plt.legend()\n",
    "plt.show()"
   ]
  },
  {
   "cell_type": "code",
   "execution_count": 17,
   "metadata": {},
   "outputs": [
    {
     "data": {
      "image/png": "[encoded data removed]",
      "text/plain": [
       "<Figure size 640x480 with 1 Axes>"
      ]
     },
     "metadata": {},
     "output_type": "display_data"
    }
   ],
   "source": [
    "abs_lognorm = np.abs(lognorm)\n",
    "plt.hist(abs_lognorm, bins=50)\n",
    "plt.xscale('log')\n",
    "plt.xlabel('Absolute Claim Amounts')\n",
    "plt.ylabel('Frequency')\n",
    "plt.title('Simulated Claim Amounts (Absolute Values)')\n",
    "plt.show()"
   ]
  },
  {
   "cell_type": "code",
   "execution_count": 18,
   "metadata": {},
   "outputs": [],
   "source": [
    "bw = 10"
   ]
  },
  {
   "cell_type": "code",
   "execution_count": 19,
   "metadata": {},
   "outputs": [
    {
     "data": {
      "image/png": "[encoded data removed]",
      "text/plain": [
       "<Figure size 800x700 with 1 Axes>"
      ]
     },
     "metadata": {},
     "output_type": "display_data"
    }
   ],
   "source": [
    "plt.figure(figsize=(8,7))\n",
    "claim_amounts.plot.kde(label = 'raw data', bw_method=bw)\n",
    "fitted_claim_amounts.plot.kde(label =  'fitted', bw_method=bw)\n",
    "plt.xlim(0, max(claim_amounts)*1.1)\n",
    "plt.legend()\n",
    "plt.show()"
   ]
  },
  {
   "cell_type": "code",
   "execution_count": 20,
   "metadata": {},
   "outputs": [
    {
     "data": {
      "text/plain": [
       "797      -1\n",
       "923      -4\n",
       "933      -2\n",
       "943      -3\n",
       "952      -1\n",
       "958      -7\n",
       "959    -123\n",
       "961      -2\n",
       "962      -1\n",
       "971      -2\n",
       "1852     -1\n",
       "2362     -2\n",
       "2371     -8\n",
       "2753     -1\n",
       "2754     -1\n",
       "2756     -1\n",
       "2757     -1\n",
       "2758     -1\n",
       "2759     -1\n",
       "3318     -3\n",
       "3319     -3\n",
       "3327     -5\n",
       "3328     -5\n",
       "3329     -5\n",
       "3336     -5\n",
       "3337     -5\n",
       "3338     -5\n",
       "3339     -5\n",
       "3345     -9\n",
       "3346     -9\n",
       "3347     -9\n",
       "3348     -9\n",
       "3349     -9\n",
       "3899   -504\n",
       "4462     -1\n",
       "4812    -28\n",
       "4820   -388\n",
       "5206     -6\n",
       "5215     -6\n",
       "5243     -5\n",
       "5244     -5\n",
       "5245     -5\n",
       "5246     -5\n",
       "5247     -5\n",
       "5248     -5\n",
       "5249     -5\n",
       "6331     -7\n",
       "6332     -4\n",
       "6485     -3\n",
       "6494     -2\n",
       "Name: Incurred claims, dtype: int64"
      ]
     },
     "execution_count": 20,
     "metadata": {},
     "output_type": "execute_result"
    }
   ],
   "source": [
    "claim_amounts.loc[claim_amounts < 0]"
   ]
  },
  {
   "cell_type": "code",
   "execution_count": 21,
   "metadata": {},
   "outputs": [
    {
     "data": {
      "text/plain": [
       "<bound method NDFrame._add_numeric_operations.<locals>.mean of 0        44.545796\n",
       "1        58.635257\n",
       "2        25.556215\n",
       "3       270.459900\n",
       "4        83.449468\n",
       "           ...    \n",
       "9995     55.144309\n",
       "9996     56.613232\n",
       "9997     18.870270\n",
       "9998    137.866009\n",
       "9999    107.287170\n",
       "Length: 10000, dtype: float64>"
      ]
     },
     "execution_count": 21,
     "metadata": {},
     "output_type": "execute_result"
    }
   ],
   "source": [
    "fitted_claim_amounts.mean"
   ]
  },
  {
   "cell_type": "code",
   "execution_count": 22,
   "metadata": {},
   "outputs": [
    {
     "data": {
      "text/plain": [
       "48.83790783311381"
      ]
     },
     "execution_count": 22,
     "metadata": {},
     "output_type": "execute_result"
    }
   ],
   "source": [
    "mean = fitted_claim_amounts.mean()\n",
    "mean"
   ]
  },
  {
   "cell_type": "code",
   "execution_count": 23,
   "metadata": {},
   "outputs": [
    {
     "data": {
      "text/plain": [
       "2133.6394285714287"
      ]
     },
     "execution_count": 23,
     "metadata": {},
     "output_type": "execute_result"
    }
   ],
   "source": [
    "mean= claim_amounts.mean()\n",
    "mean"
   ]
  },
  {
   "cell_type": "code",
   "execution_count": 24,
   "metadata": {},
   "outputs": [
    {
     "data": {
      "text/plain": [
       "10000"
      ]
     },
     "execution_count": 24,
     "metadata": {},
     "output_type": "execute_result"
    }
   ],
   "source": [
    "len(fitted_claim_amounts)"
   ]
  },
  {
   "cell_type": "code",
   "execution_count": 25,
   "metadata": {},
   "outputs": [
    {
     "data": {
      "text/plain": [
       "7000"
      ]
     },
     "execution_count": 25,
     "metadata": {},
     "output_type": "execute_result"
    }
   ],
   "source": [
    "len(claim_amounts)"
   ]
  },
  {
   "cell_type": "code",
   "execution_count": 26,
   "metadata": {},
   "outputs": [],
   "source": [
    "data['AccidentYear'] = pd.to_datetime(data.AccidentYear)"
   ]
  },
  {
   "cell_type": "code",
   "execution_count": 27,
   "metadata": {},
   "outputs": [
    {
     "data": {
      "text/plain": [
       "AccidentYear\n",
       "1970-01    7000\n",
       "Freq: M, Name: count, dtype: int64"
      ]
     },
     "execution_count": 27,
     "metadata": {},
     "output_type": "execute_result"
    }
   ],
   "source": [
    "claim_counts = data.AccidentYear.dt.to_period(\"M\").value_counts().sort_index()\n",
    "claim_counts"
   ]
  },
  {
   "cell_type": "code",
   "execution_count": 28,
   "metadata": {},
   "outputs": [
    {
     "data": {
      "image/png": "[encoded data removed]",
      "text/plain": [
       "<Figure size 640x480 with 1 Axes>"
      ]
     },
     "metadata": {},
     "output_type": "display_data"
    }
   ],
   "source": [
    "claim_counts.plot.hist()\n",
    "plt.show()"
   ]
  },
  {
   "cell_type": "code",
   "execution_count": 29,
   "metadata": {},
   "outputs": [],
   "source": [
    "def poisson_pmf(k, mu):\n",
    "    return stats.poisson.pmf(k, mu)"
   ]
  },
  {
   "cell_type": "code",
   "execution_count": 30,
   "metadata": {},
   "outputs": [],
   "source": [
    "hist, bin_edges = np.histogram(claim_counts, bins='auto')\n",
    "\n",
    "# bin_centers = (bin_edges[:-1] + bin_edges[1:]) / 2\n"
   ]
  },
  {
   "cell_type": "code",
   "execution_count": 31,
   "metadata": {},
   "outputs": [
    {
     "data": {
      "text/plain": [
       "1"
      ]
     },
     "execution_count": 31,
     "metadata": {},
     "output_type": "execute_result"
    }
   ],
   "source": [
    "len(hist)"
   ]
  },
  {
   "cell_type": "code",
   "execution_count": 32,
   "metadata": {},
   "outputs": [
    {
     "data": {
      "text/plain": [
       "array([6999.5, 7000.5])"
      ]
     },
     "execution_count": 32,
     "metadata": {},
     "output_type": "execute_result"
    }
   ],
   "source": [
    "bin_edges"
   ]
  },
  {
   "cell_type": "code",
   "execution_count": 33,
   "metadata": {},
   "outputs": [
    {
     "data": {
      "text/plain": [
       "array([1], dtype=int64)"
      ]
     },
     "execution_count": 33,
     "metadata": {},
     "output_type": "execute_result"
    }
   ],
   "source": [
    "hist"
   ]
  },
  {
   "cell_type": "code",
   "execution_count": 34,
   "metadata": {},
   "outputs": [
    {
     "data": {
      "text/plain": [
       "array([6999.5, 7000.5])"
      ]
     },
     "execution_count": 34,
     "metadata": {},
     "output_type": "execute_result"
    }
   ],
   "source": [
    "bin_edges"
   ]
  },
  {
   "cell_type": "code",
   "execution_count": 35,
   "metadata": {},
   "outputs": [
    {
     "data": {
      "text/plain": [
       "AccidentYear\n",
       "1970-01    7000\n",
       "Freq: M, Name: count, dtype: int64"
      ]
     },
     "execution_count": 35,
     "metadata": {},
     "output_type": "execute_result"
    }
   ],
   "source": [
    "claim_counts.sort_values()"
   ]
  },
  {
   "cell_type": "code",
   "execution_count": 36,
   "metadata": {},
   "outputs": [
    {
     "name": "stderr",
     "output_type": "stream",
     "text": [
      "c:\\Users\\melod\\AppData\\Local\\Programs\\Python\\Python310\\lib\\site-packages\\scipy\\optimize\\_minpack_py.py:906: OptimizeWarning: Covariance of the parameters could not be estimated\n",
      "  warnings.warn('Covariance of the parameters could not be estimated',\n"
     ]
    }
   ],
   "source": [
    "poisson_params, _ = optimize.curve_fit(poisson_pmf, bin_edges[:-1], hist)"
   ]
  },
  {
   "cell_type": "code",
   "execution_count": 37,
   "metadata": {},
   "outputs": [
    {
     "data": {
      "text/plain": [
       "array([1.])"
      ]
     },
     "execution_count": 37,
     "metadata": {},
     "output_type": "execute_result"
    }
   ],
   "source": [
    "poisson_params"
   ]
  },
  {
   "cell_type": "code",
   "execution_count": 38,
   "metadata": {},
   "outputs": [
    {
     "data": {
      "text/plain": [
       "7000.0"
      ]
     },
     "execution_count": 38,
     "metadata": {},
     "output_type": "execute_result"
    }
   ],
   "source": [
    "claim_counts.mean()"
   ]
  },
  {
   "cell_type": "code",
   "execution_count": 39,
   "metadata": {},
   "outputs": [
    {
     "data": {
      "text/plain": [
       "array([4], dtype=int64)"
      ]
     },
     "execution_count": 39,
     "metadata": {},
     "output_type": "execute_result"
    }
   ],
   "source": [
    "stats.poisson.rvs(mu = 3, size = len(claim_counts))"
   ]
  },
  {
   "cell_type": "code",
   "execution_count": 40,
   "metadata": {},
   "outputs": [
    {
     "data": {
      "text/plain": [
       "{'lognorm': {'s': 0.9637111431675187,\n",
       "  'loc': -504.8551685870864,\n",
       "  'scale': 776.5091949073188}}"
      ]
     },
     "execution_count": 40,
     "metadata": {},
     "output_type": "execute_result"
    }
   ],
   "source": [
    "f.get_best()"
   ]
  },
  {
   "attachments": {},
   "cell_type": "markdown",
   "metadata": {},
   "source": [
    "Value at Risk @ 95%"
   ]
  },
  {
   "cell_type": "code",
   "execution_count": 41,
   "metadata": {},
   "outputs": [
    {
     "name": "stdout",
     "output_type": "stream",
     "text": [
      "Weighted Average VaR: 38.56423935708426\n"
     ]
    }
   ],
   "source": [
    "# Set the VaR percentile level\n",
    "VaR_percentile = 0.95\n",
    "\n",
    "# Sort the simulated returns in ascending order\n",
    "sorted_claim_amounts = np.sort(fitted_claim_amounts)\n",
    "\n",
    "# Identify the simulated return at the VaR percentile level\n",
    "VaR_simulated_claim_amounts = sorted_claim_amounts[int(VaR_percentile * len(sorted_claim_amounts))]\n",
    "\n",
    "# Assign a weight of 1 to the simulated return at the VaR percentile level, and a weightof 0 to all other simulated returns\n",
    "weights = np.zeros_like(fitted_claim_amounts)\n",
    "weights[fitted_claim_amounts <= VaR_simulated_claim_amounts] = 1\n",
    "\n",
    "# Calculate the weighted average VaR\n",
    "weighted_VaR = np.average(fitted_claim_amounts, weights=weights)\n",
    "\n",
    "print(\"Weighted Average VaR:\", weighted_VaR)"
   ]
  },
  {
   "cell_type": "code",
   "execution_count": 42,
   "metadata": {},
   "outputs": [],
   "source": [
    "Var_95=weighted_VaR"
   ]
  },
  {
   "attachments": {},
   "cell_type": "markdown",
   "metadata": {},
   "source": [
    "Value at Risk @ 99.5%"
   ]
  },
  {
   "cell_type": "code",
   "execution_count": 43,
   "metadata": {},
   "outputs": [
    {
     "name": "stdout",
     "output_type": "stream",
     "text": [
      "Weighted Average VaR: 46.576117544176675\n"
     ]
    }
   ],
   "source": [
    "VaR_percentile = 0.995\n",
    "sorted_claim_amounts = np.sort(fitted_claim_amounts)\n",
    "VaR_simulated_claim_amounts = sorted_claim_amounts[int(VaR_percentile * len(sorted_claim_amounts))]\n",
    "weights = np.zeros_like(fitted_claim_amounts)\n",
    "weights[fitted_claim_amounts <= VaR_simulated_claim_amounts] = 1\n",
    "\n",
    "# Calculate the weighted average VaR\n",
    "weighted_VaR = np.average(fitted_claim_amounts, weights=weights)\n",
    "\n",
    "print(\"Weighted Average VaR:\", weighted_VaR)"
   ]
  },
  {
   "cell_type": "code",
   "execution_count": 44,
   "metadata": {},
   "outputs": [],
   "source": [
    "Var_995=weighted_VaR"
   ]
  },
  {
   "attachments": {},
   "cell_type": "markdown",
   "metadata": {},
   "source": [
    "Value at Risk @ 90%"
   ]
  },
  {
   "cell_type": "code",
   "execution_count": 45,
   "metadata": {},
   "outputs": [
    {
     "name": "stdout",
     "output_type": "stream",
     "text": [
      "Weighted Average VaR: 33.78154131446658\n"
     ]
    }
   ],
   "source": [
    "VaR_percentile = 0.90\n",
    "sorted_claim_amounts = np.sort(fitted_claim_amounts)\n",
    "VaR_simulated_claim_amounts = sorted_claim_amounts[int(VaR_percentile * len(sorted_claim_amounts))]\n",
    "weights = np.zeros_like(fitted_claim_amounts)\n",
    "weights[fitted_claim_amounts <= VaR_simulated_claim_amounts] = 1\n",
    "\n",
    "# Calculate the weighted average VaR\n",
    "weighted_VaR = np.average(fitted_claim_amounts, weights=weights)\n",
    "\n",
    "print(\"Weighted Average VaR:\", weighted_VaR)"
   ]
  },
  {
   "cell_type": "code",
   "execution_count": 46,
   "metadata": {},
   "outputs": [],
   "source": [
    "Var_90=weighted_VaR"
   ]
  },
  {
   "cell_type": "code",
   "execution_count": null,
   "metadata": {},
   "outputs": [],
   "source": []
  },
  {
   "attachments": {},
   "cell_type": "markdown",
   "metadata": {},
   "source": [
    "Tail Value at Risk"
   ]
  },
  {
   "attachments": {},
   "cell_type": "markdown",
   "metadata": {},
   "source": [
    "TVaR @ 90%"
   ]
  },
  {
   "cell_type": "code",
   "execution_count": 47,
   "metadata": {},
   "outputs": [
    {
     "name": "stdout",
     "output_type": "stream",
     "text": [
      "TVaR_90CL: 535898.3870010083\n"
     ]
    }
   ],
   "source": [
    "\n",
    "# Sort the claim amounts in ascending order\n",
    "sorted_claims = np.sort(fitted_claim_amounts)\n",
    "\n",
    "# Calculate the TVaR at the 90th percentile as the value at the 10th index in the sorted array\n",
    "tvar = sorted_claims[int(0.1 * sorted_claims.shape[0])]\n",
    "\n",
    "# Create a binary array where the value is 1 if the claim amount is above the 90th percentile, and 0 otherwise\n",
    "binary_array = np.zeros_like(fitted_claim_amounts)\n",
    "binary_array[fitted_claim_amounts > tvar] = 1\n",
    "\n",
    "# Calculate the proportion of claim amounts that are above the 90th percentile\n",
    "prop_above_percentile = np.sum(binary_array) / len(fitted_claim_amounts)\n",
    "\n",
    "# Calculate the weights for each claim amount as the binary array, divided by the proportion of claim amounts that are above the 90th percentile\n",
    "weights = binary_array / prop_above_percentile\n",
    "\n",
    "# Calculate the weighted average of the claim amounts by multiplying the claim amountvalues by the corresponding weights and summing the results\n",
    "weighted_avg = np.sum(fitted_claim_amounts * weights)\n",
    "weighted_avg\n",
    "print(\"TVaR_90CL:\", weighted_avg)"
   ]
  },
  {
   "cell_type": "code",
   "execution_count": 48,
   "metadata": {},
   "outputs": [
    {
     "data": {
      "text/plain": [
       "535898.3870010083"
      ]
     },
     "execution_count": 48,
     "metadata": {},
     "output_type": "execute_result"
    }
   ],
   "source": [
    "TVaR_90CL=weighted_avg\n",
    "TVaR_90CL"
   ]
  },
  {
   "attachments": {},
   "cell_type": "markdown",
   "metadata": {},
   "source": [
    "TVaR @ 99%"
   ]
  },
  {
   "cell_type": "code",
   "execution_count": 49,
   "metadata": {},
   "outputs": [
    {
     "name": "stdout",
     "output_type": "stream",
     "text": [
      "TVaR_995CL: 490785.2157302942\n"
     ]
    }
   ],
   "source": [
    "# Calculate the TVaR at the 99.5th percentile as the value at the 99.5th index in the sorted array\n",
    "tvar = sorted_claims[int(0.005 * sorted_claims.shape[0])]\n",
    "\n",
    "# Create a binary array where the value is 1 if the claim amount is above the 99.5th percentile, and 0 otherwise\n",
    "binary_array = np.zeros_like(fitted_claim_amounts)\n",
    "binary_array[fitted_claim_amounts > tvar] = 1\n",
    "\n",
    "# Calculate the proportion of claim amounts that are above the 90th percentile\n",
    "prop_above_percentile = np.sum(binary_array) / len(fitted_claim_amounts)\n",
    "\n",
    "# Calculate the weights for each claim amount as the binary array, divided by the proportion of claim amounts that are above the 90th percentile\n",
    "weights = binary_array / prop_above_percentile\n",
    "\n",
    "# Calculate the weighted average of the claim amounts by multiplying the claim amountvalues by the corresponding weights and summing the results\n",
    "weighted_avg = np.sum(fitted_claim_amounts * weights)\n",
    "weighted_avg\n",
    "print(\"TVaR_995CL:\", weighted_avg)"
   ]
  },
  {
   "cell_type": "code",
   "execution_count": 50,
   "metadata": {},
   "outputs": [
    {
     "data": {
      "text/plain": [
       "490785.2157302942"
      ]
     },
     "execution_count": 50,
     "metadata": {},
     "output_type": "execute_result"
    }
   ],
   "source": [
    "TVaR_995CL= weighted_avg\n",
    "TVaR_995CL"
   ]
  },
  {
   "attachments": {},
   "cell_type": "markdown",
   "metadata": {},
   "source": [
    "TVaR @ 95%"
   ]
  },
  {
   "cell_type": "code",
   "execution_count": 51,
   "metadata": {},
   "outputs": [
    {
     "name": "stdout",
     "output_type": "stream",
     "text": [
      "TVaR_95CL: 511775.50517416385\n"
     ]
    }
   ],
   "source": [
    "# Calculate the TVaR at the 95th percentile as the value at the 5th index in the sorted array\n",
    "tvar = sorted_claims[int(0.05 * sorted_claims.shape[0])]\n",
    "\n",
    "# Create a binary array where the value is 1 if the claim amount is above the 95th percentile, and 0 otherwise\n",
    "binary_array = np.zeros_like(fitted_claim_amounts)\n",
    "binary_array[fitted_claim_amounts > tvar] = 1\n",
    "\n",
    "# Calculate the proportion of claim amounts that are above the 90th percentile\n",
    "prop_above_percentile = np.sum(binary_array) / len(fitted_claim_amounts)\n",
    "\n",
    "# Calculate the weights for each claim amount as the binary array, divided by the proportion of claim amounts that are above the 90th percentile\n",
    "weights = binary_array / prop_above_percentile\n",
    "\n",
    "# Calculate the weighted average of the claim amounts by multiplying the claim amountvalues by the corresponding weights and summing the results\n",
    "weighted_avg = np.sum(fitted_claim_amounts * weights)\n",
    "weighted_avg\n",
    "print(\"TVaR_95CL:\", weighted_avg)"
   ]
  },
  {
   "cell_type": "code",
   "execution_count": 52,
   "metadata": {},
   "outputs": [
    {
     "data": {
      "text/plain": [
       "511775.50517416385"
      ]
     },
     "execution_count": 52,
     "metadata": {},
     "output_type": "execute_result"
    }
   ],
   "source": [
    "TVaR_95CL=weighted_avg\n",
    "TVaR_95CL"
   ]
  },
  {
   "attachments": {},
   "cell_type": "markdown",
   "metadata": {},
   "source": [
    "RISK ADJUSTMENT CALCULATION"
   ]
  },
  {
   "cell_type": "code",
   "execution_count": 53,
   "metadata": {},
   "outputs": [],
   "source": [
    "# the Risk adjustment is calculated as the risk measure less mean"
   ]
  },
  {
   "cell_type": "code",
   "execution_count": 54,
   "metadata": {},
   "outputs": [
    {
     "data": {
      "text/plain": [
       "[535898.3870010083, 511775.50517416385, 490785.2157302942]"
      ]
     },
     "execution_count": 54,
     "metadata": {},
     "output_type": "execute_result"
    }
   ],
   "source": [
    "TVaR_values=[TVaR_90CL, TVaR_95CL, TVaR_995CL]\n",
    "TVaR_values"
   ]
  },
  {
   "cell_type": "code",
   "execution_count": 55,
   "metadata": {},
   "outputs": [],
   "source": [
    "VaR_values=[Var_90,Var_95,Var_995]"
   ]
  },
  {
   "cell_type": "code",
   "execution_count": 56,
   "metadata": {},
   "outputs": [
    {
     "data": {
      "text/plain": [
       "2133.6394285714287"
      ]
     },
     "execution_count": 56,
     "metadata": {},
     "output_type": "execute_result"
    }
   ],
   "source": [
    "mean"
   ]
  },
  {
   "cell_type": "code",
   "execution_count": 63,
   "metadata": {},
   "outputs": [],
   "source": [
    "cl_values=(90 , 95 , 99)"
   ]
  },
  {
   "cell_type": "code",
   "execution_count": 72,
   "metadata": {},
   "outputs": [
    {
     "name": "stdout",
     "output_type": "stream",
     "text": [
      "   CL %           TVaR  Risk Adjustment\n",
      "0    90  535898.387001    533764.747572\n",
      "1    95  511775.505174    509641.865746\n",
      "2    99  490785.215730    488651.576302\n"
     ]
    }
   ],
   "source": [
    "\n",
    "# Calculate the risk adjustment as the difference between weighted average TVaR and mean claim amount\n",
    "risk_adjustment = np.array(TVaR_values) - mean\n",
    "\n",
    "# Create a DataFrame to present the output in the form of a table\n",
    "output_results = pd.DataFrame({\n",
    "    'CL %': cl_values,\n",
    "    'TVaR': TVaR_values,\n",
    "    'Risk Adjustment': risk_adjustment\n",
    "})\n",
    "\n",
    "# Print the output DataFrame\n",
    "print(output_results)"
   ]
  },
  {
   "cell_type": "code",
   "execution_count": 65,
   "metadata": {},
   "outputs": [
    {
     "name": "stdout",
     "output_type": "stream",
     "text": [
      "   CL %        VaR  Risk Adjustment\n",
      "0    90  33.781541     -2099.857887\n",
      "1    95  38.564239     -2095.075189\n",
      "2    99  46.576118     -2087.063311\n"
     ]
    }
   ],
   "source": [
    "# Calculate the risk adjustment as the difference between weighted average TVaR and mean claim amount\n",
    "risk_adjustment = np.array(VaR_values) - mean\n",
    "\n",
    "# Create a DataFrame to present the output in the form of a table\n",
    "output_VaR = pd.DataFrame({\n",
    "    'CL %': cl_values,\n",
    "    'VaR': VaR_values,\n",
    "    'Risk Adjustment': risk_adjustment\n",
    "})\n",
    "\n",
    "# Print the output DataFrame\n",
    "print(output_VaR)"
   ]
  },
  {
   "cell_type": "code",
   "execution_count": 70,
   "metadata": {},
   "outputs": [],
   "source": [
    "import statsmodels.api as sm\n"
   ]
  },
  {
   "attachments": {},
   "cell_type": "markdown",
   "metadata": {},
   "source": []
  },
  {
   "cell_type": "code",
   "execution_count": 73,
   "metadata": {},
   "outputs": [
    {
     "data": {
      "text/html": [
       "<div>\n",
       "<style scoped>\n",
       "    .dataframe tbody tr th:only-of-type {\n",
       "        vertical-align: middle;\n",
       "    }\n",
       "\n",
       "    .dataframe tbody tr th {\n",
       "        vertical-align: top;\n",
       "    }\n",
       "\n",
       "    .dataframe thead th {\n",
       "        text-align: right;\n",
       "    }\n",
       "</style>\n",
       "<table border=\"1\" class=\"dataframe\">\n",
       "  <thead>\n",
       "    <tr style=\"text-align: right;\">\n",
       "      <th></th>\n",
       "      <th>CL %</th>\n",
       "      <th>TVaR</th>\n",
       "      <th>Risk Adjustment</th>\n",
       "    </tr>\n",
       "  </thead>\n",
       "  <tbody>\n",
       "    <tr>\n",
       "      <th>0</th>\n",
       "      <td>90</td>\n",
       "      <td>535898.387001</td>\n",
       "      <td>533764.747572</td>\n",
       "    </tr>\n",
       "    <tr>\n",
       "      <th>1</th>\n",
       "      <td>95</td>\n",
       "      <td>511775.505174</td>\n",
       "      <td>509641.865746</td>\n",
       "    </tr>\n",
       "    <tr>\n",
       "      <th>2</th>\n",
       "      <td>99</td>\n",
       "      <td>490785.215730</td>\n",
       "      <td>488651.576302</td>\n",
       "    </tr>\n",
       "  </tbody>\n",
       "</table>\n",
       "</div>"
      ],
      "text/plain": [
       "   CL %           TVaR  Risk Adjustment\n",
       "0    90  535898.387001    533764.747572\n",
       "1    95  511775.505174    509641.865746\n",
       "2    99  490785.215730    488651.576302"
      ]
     },
     "execution_count": 73,
     "metadata": {},
     "output_type": "execute_result"
    }
   ],
   "source": [
    "output_results"
   ]
  },
  {
   "cell_type": "code",
   "execution_count": 78,
   "metadata": {},
   "outputs": [
    {
     "name": "stdout",
     "output_type": "stream",
     "text": [
      "Consistency between TVaR and VaR: False\n"
     ]
    }
   ],
   "source": [
    "tvar_risk_adjustment = np.array([533764.747572, 509641.865746, 488651.576302])\n",
    "\n",
    "var_risk_adjustment = np.array([-2099.857887, -2095.075189, -2087.063311])\n",
    "\n",
    "# Compare rankings\n",
    "rank_tvar = np.argsort(tvar_risk_adjustment)\n",
    "rank_var = np.argsort(var_risk_adjustment)\n",
    "\n",
    "consistent = np.array_equal(rank_tvar, rank_var)\n",
    "\n",
    "# Print the result\n",
    "print(\"Consistency between TVaR and VaR:\", consistent)\n"
   ]
  },
  {
   "cell_type": "code",
   "execution_count": 79,
   "metadata": {},
   "outputs": [
    {
     "name": "stdout",
     "output_type": "stream",
     "text": [
      "Relative Changes:\n",
      "From 90% to 95%: -0.0452\n",
      "From 91% to 96%: -0.0412\n"
     ]
    }
   ],
   "source": [
    "\n",
    "tvar_risk_adjustments = np.array([533764.747572, 509641.865746, 488651.576302])\n",
    "\n",
    "var_risk_adjustments = np.array([-2099.857887, -2095.075189, -2087.063311])\n",
    "\n",
    "# Calculate relative changes\n",
    "relative_changes = np.diff(tvar_risk_adjustments) / tvar_risk_adjustments[:-1]\n",
    "\n",
    "# Print the relative changes\n",
    "print(\"Relative Changes:\")\n",
    "for i, change in enumerate(relative_changes):\n",
    "    print(f\"From {i+90}% to {i+95}%: {change:.4f}\")\n"
   ]
  },
  {
   "cell_type": "code",
   "execution_count": 80,
   "metadata": {},
   "outputs": [
    {
     "name": "stdout",
     "output_type": "stream",
     "text": [
      "Kolmogorov-Smirnov test:\n",
      "KS Statistic: 1.0\n",
      "KS p-value: 0.0\n",
      "Anderson-Darling test:\n",
      "AD Statistic: 0.19127714707622845\n",
      "AD Critical Values: [-1.296 -1.476 -1.771 -2.065 -2.457]\n",
      "AD Significance Levels: [15.  10.   5.   2.5  1. ]\n"
     ]
    }
   ],
   "source": [
    "from scipy.stats import kstest, anderson\n",
    "\n",
    "# Risk adjustment data (example values)\n",
    "risk_adjustments = np.array([533764.747572, 509641.865746, 488651.576302])\n",
    "\n",
    "# Perform Kolmogorov-Smirnov test\n",
    "ks_statistic, ks_pvalue = kstest(risk_adjustments, 'norm')\n",
    "print(\"Kolmogorov-Smirnov test:\")\n",
    "print(\"KS Statistic:\", ks_statistic)\n",
    "print(\"KS p-value:\", ks_pvalue)\n",
    "\n",
    "# Perform Anderson-Darling test\n",
    "ad_statistic, ad_critical_values, ad_significance_levels = anderson(risk_adjustments, dist='norm')\n",
    "print(\"Anderson-Darling test:\")\n",
    "print(\"AD Statistic:\", ad_statistic)\n",
    "print(\"AD Critical Values:\", ad_critical_values)\n",
    "print(\"AD Significance Levels:\", ad_significance_levels)\n"
   ]
  },
  {
   "cell_type": "code",
   "execution_count": null,
   "metadata": {},
   "outputs": [],
   "source": [
    "0.9637111431675187"
   ]
  },
  {
   "cell_type": "code",
   "execution_count": 87,
   "metadata": {},
   "outputs": [
    {
     "name": "stdout",
     "output_type": "stream",
     "text": [
      "Kolmogorov-Smirnov test:\n",
      "KS Statistic: 0.2265176927090995\n",
      "KS p-value: 0.9897090365087072\n"
     ]
    }
   ],
   "source": [
    "import numpy as np\n",
    "from scipy.stats import kstest, norm\n",
    "\n",
    "# Risk adjustment data (example values)\n",
    "risk_adjustments = np.array([533764.747572, 509641.865746, 488651.576302])\n",
    "\n",
    "# Transform the risk adjustment data to a logarithmic scale\n",
    "log_risk_adjustments = np.log(risk_adjustments)\n",
    "\n",
    "# Perform Kolmogorov-Smirnov test with normal distribution approximation\n",
    "ks_statistic, ks_pvalue = kstest(log_risk_adjustments, norm(loc=np.mean(log_risk_adjustments), scale=np.std(log_risk_adjustments)).cdf)\n",
    "print(\"Kolmogorov-Smirnov test:\")\n",
    "print(\"KS Statistic:\", ks_statistic)\n",
    "print(\"KS p-value:\", ks_pvalue)\n"
   ]
  },
  {
   "cell_type": "code",
   "execution_count": 88,
   "metadata": {},
   "outputs": [
    {
     "name": "stdout",
     "output_type": "stream",
     "text": [
      "Kolmogorov-Smirnov test:\n",
      "KS Statistic: nan\n",
      "KS p-value: nan\n"
     ]
    }
   ],
   "source": [
    "risk_adjustments = np.array([-2099.857887, -2095.075189, -2087.063311])\n",
    "\n",
    "# Transform the risk adjustment data to a logarithmic scale\n",
    "log_risk_adjustments = np.log(risk_adjustments)\n",
    "\n",
    "# Perform Kolmogorov-Smirnov test with normal distribution approximation\n",
    "ks_statistic, ks_pvalue = kstest(log_risk_adjustments, norm(loc=np.mean(log_risk_adjustments), scale=np.std(log_risk_adjustments)).cdf)\n",
    "print(\"Kolmogorov-Smirnov test:\")\n",
    "print(\"KS Statistic:\", ks_statistic)\n",
    "print(\"KS p-value:\", ks_pvalue)\n"
   ]
  },
  {
   "cell_type": "code",
   "execution_count": null,
   "metadata": {},
   "outputs": [],
   "source": []
  }
 ],
 "metadata": {
  "kernelspec": {
   "display_name": "base",
   "language": "python",
   "name": "python3"
  },
  "language_info": {
   "codemirror_mode": {
    "name": "ipython",
    "version": 3
   },
   "file_extension": ".py",
   "mimetype": "text/x-python",
   "name": "python",
   "nbconvert_exporter": "python",
   "pygments_lexer": "ipython3",
   "version": "3.10.9"
  },
  "orig_nbformat": 4
 },
 "nbformat": 4,
 "nbformat_minor": 2
}
